{
 "cells": [
  {
   "cell_type": "code",
   "execution_count": null,
   "id": "a8736178",
   "metadata": {},
   "outputs": [],
   "source": [
    "import numpy as np\n",
    "import matplotlib.pyplot as plt\n",
    "import plotly\n",
    "import pandas as pd\n",
    "import plotly.express as px\n",
    "from plotly.subplots import make_subplots\n",
    "import plotly.graph_objects as go"
   ]
  },
  {
   "cell_type": "markdown",
   "id": "30ecd198",
   "metadata": {},
   "source": [
    "# Data Analysis"
   ]
  },
  {
   "cell_type": "markdown",
   "id": "2c3a4de5",
   "metadata": {},
   "source": [
    "## Test Data"
   ]
  },
  {
   "cell_type": "code",
   "execution_count": null,
   "id": "40443cac",
   "metadata": {},
   "outputs": [],
   "source": [
    "hotels = pd.read_csv('features_hotels.csv', index_col=['hotel_id', 'city'])\n",
    "Xtest = pd.read_csv(\"test_set.csv\",index_col =0)\n",
    "Xtest = Xtest.join(hotels, on=['hotel_id', 'city'])\n",
    "Xtest"
   ]
  },
  {
   "cell_type": "code",
   "execution_count": null,
   "id": "53ca1841",
   "metadata": {},
   "outputs": [],
   "source": [
    "pricing_request = pd.read_csv(\"XYtrain.csv\",index_col =0)"
   ]
  },
  {
   "cell_type": "code",
   "execution_count": null,
   "id": "bb089aa7",
   "metadata": {},
   "outputs": [],
   "source": [
    "QualiTest = Xtest[[\"hotel_id\",\"city\",\"language\",\"mobile\",\"avatar_id\",\"group\",\"brand\",\"parking\",\"pool\",\"children_policy\"]]"
   ]
  },
  {
   "cell_type": "code",
   "execution_count": null,
   "id": "ec8e2af8",
   "metadata": {},
   "outputs": [],
   "source": [
    "fig = make_subplots(rows=5, cols=2)\n",
    "\n",
    "\n",
    "trace0 = go.Histogram(x=QualiTest[\"hotel_id\"],name=\"Hotel_id\")\n",
    "trace1 = go.Histogram(x=QualiTest[\"city\"],name=\"city\")\n",
    "trace2 = go.Histogram(x = QualiTest[\"language\"],name=\"language\")\n",
    "trace3 = go.Histogram(x = QualiTest[\"group\"],name = \"gourp\")\n",
    "trace4 = go.Histogram(x = QualiTest[\"brand\"], name = \"brand\")\n",
    "trace5 = go.Histogram(x = QualiTest[\"parking\"], name = \"parking\")\n",
    "trace6 = go.Histogram(x = QualiTest[\"pool\"], name=\"pool\")\n",
    "trace7 = go.Histogram(x = QualiTest[\"children_policy\"], name = \"children_policy\")\n",
    "trace8 = go.Histogram(x = QualiTest[\"mobile\"], name = \"mobile\")\n",
    "trace9 = go.Histogram(x = QualiTest[\"avatar_id\"], name = \"avatar_id\")\n",
    "fig.append_trace(trace0, 1, 1)\n",
    "fig.append_trace(trace1, 1, 2)\n",
    "fig.append_trace(trace2, 2, 1)\n",
    "fig.append_trace(trace3, 2, 2)\n",
    "fig.append_trace(trace4, 3, 1)\n",
    "fig.append_trace(trace5, 3, 2)\n",
    "fig.append_trace(trace6, 4, 1)\n",
    "fig.append_trace(trace7, 4, 2)\n",
    "fig.append_trace(trace8, 5, 1)\n",
    "fig.append_trace(trace9, 5, 2)\n",
    "\n",
    "\n",
    "fig.update_layout(height=1500, width=800)\n",
    "\n",
    "fig.show()"
   ]
  },
  {
   "cell_type": "markdown",
   "id": "b6d589b2",
   "metadata": {},
   "source": [
    "Les Hotels IDs sont assez peu uniformes (en diminuant les intervalles on a qqch de plus uniforme).\n",
    "\n",
    "Villes : Paris, amsterdam et madrid très représentés. Sofia et Valetta très peu\n",
    "\n",
    "Langues: Hongrois hyper représenté (967/6670). Viennent ensuite roumain, suédois, finnois, autrichien, slovaque, bulgare, danois et estonien (~400). Les autres langues sont entre 100 et 200 \n",
    "\n",
    "Groupes : Accar et Ying Yang en tête (~1500), les autres à ~1000. (indépendant 825, Chilton 747)\n",
    "\n",
    "Marques: Indépendant à 825, puit Safitel à 700, Boss western 600. Marcure et CourtYord à ~120\n",
    "\n",
    "parking : 0 45%; 1 55%\n",
    "\n",
    "pool: 0 5500; 1 1100\n",
    "\n",
    "mobile: 0 55%; 1 45%\n",
    "\n",
    "avatarId: surreprésenté entre 0 et 19 puis 780-790; 300-319; 180-199. Peu entre 80-99 et 200-219. Assez peu uniforme."
   ]
  },
  {
   "cell_type": "markdown",
   "id": "40dc93ed",
   "metadata": {},
   "source": [
    "## Request Data"
   ]
  },
  {
   "cell_type": "code",
   "execution_count": null,
   "id": "872766cc",
   "metadata": {},
   "outputs": [],
   "source": [
    "#hotels = pd.read_csv('features_hotels.csv', index_col=['hotel_id', 'city'])\n",
    "pricing_requests = pd.read_csv(\"XYtrain.csv\",index_col =0)\n",
    "#pricing_requests = pricing_requests.join(hotels, on=['hotel_id', 'city'])\n",
    "pricing_requests"
   ]
  },
  {
   "cell_type": "code",
   "execution_count": null,
   "id": "0f0d559b",
   "metadata": {},
   "outputs": [],
   "source": [
    "pricing_requests[\"city\"]"
   ]
  },
  {
   "cell_type": "code",
   "execution_count": null,
   "id": "ca597f76",
   "metadata": {},
   "outputs": [],
   "source": [
    "pricing_requests[\"hotel_id\"]=pricing_requests[\"hotel_id\"].astype(\"object\")\n",
    "pricing_requests[\"city\"]=pricing_requests[\"city\"].astype(\"object\")\n",
    "pricing_requests[\"language\"]=pricing_requests[\"language\"].astype(\"object\")\n",
    "pricing_requests[\"mobile\"]=pricing_requests[\"mobile\"].astype(\"object\")\n",
    "pricing_requests[\"avatar_id\"]=pricing_requests[\"avatar_id\"].astype(\"object\")\n",
    "pricing_requests[\"group\"]=pricing_requests[\"group\"].astype(\"object\")\n",
    "pricing_requests[\"brand\"]=pricing_requests[\"brand\"].astype(\"object\")\n",
    "pricing_requests[\"parking\"]=pricing_requests[\"parking\"].astype(\"object\")\n",
    "pricing_requests[\"pool\"]=pricing_requests[\"pool\"].astype(\"object\")\n",
    "pricing_requests[\"children_policy\"]=pricing_requests[\"children_policy\"].astype(\"object\")"
   ]
  },
  {
   "cell_type": "markdown",
   "id": "b24900e2",
   "metadata": {},
   "source": [
    "## variables qualitatives"
   ]
  },
  {
   "cell_type": "code",
   "execution_count": null,
   "id": "b552eb39",
   "metadata": {},
   "outputs": [],
   "source": [
    "pricing_requests[[\"hotel_id\",\"city\",\"language\",\"mobile\",\"avatar_id\",\"group\",\"brand\",\"parking\",\"pool\",\"children_policy\"]].describe()"
   ]
  },
  {
   "cell_type": "code",
   "execution_count": null,
   "id": "63082c43",
   "metadata": {},
   "outputs": [],
   "source": [
    "Quali = pricing_requests[[\"hotel_id\",\"city\",\"language\",\"mobile\",\"avatar_id\",\"group\",\"brand\",\"parking\",\"pool\",\"children_policy\"]]"
   ]
  },
  {
   "cell_type": "markdown",
   "id": "045b57fb",
   "metadata": {},
   "source": [
    "On peut observer les catégories majoritaires du jeu de donnée avec leur fréquence. Les hôtels sans piscine ou children policy sont extrêmement majoritaires. On ne possède pour l'instant que des données mobile=0 et pour un seul avatar."
   ]
  },
  {
   "cell_type": "code",
   "execution_count": null,
   "id": "4e88450d",
   "metadata": {},
   "outputs": [],
   "source": [
    "fig = make_subplots(rows=4, cols=2)\n",
    "\n",
    "\n",
    "trace0 = go.Histogram(x=Quali[\"hotel_id\"],name=\"Hotel_id\")\n",
    "trace1 = go.Histogram(x=Quali[\"city\"],name=\"city\")\n",
    "trace2 = go.Histogram(x = Quali[\"language\"],name=\"language\")\n",
    "trace3 = go.Histogram(x = Quali[\"group\"],name = \"gourp\")\n",
    "trace4 = go.Histogram(x = Quali[\"brand\"], name = \"brand\")\n",
    "trace5 = go.Histogram(x = Quali[\"parking\"], name = \"parking\")\n",
    "trace6 = go.Histogram(x = Quali[\"pool\"], name=\"pool\")\n",
    "trace7 = go.Histogram(x = Quali[\"children_policy\"], name = \"children_policy\")\n",
    "fig.append_trace(trace0, 1, 1)\n",
    "fig.append_trace(trace1, 1, 2)\n",
    "fig.append_trace(trace2, 2, 1)\n",
    "fig.append_trace(trace3, 2, 2)\n",
    "fig.append_trace(trace4, 3, 1)\n",
    "fig.append_trace(trace5, 3, 2)\n",
    "fig.append_trace(trace6, 4, 1)\n",
    "fig.append_trace(trace7, 4, 2)\n",
    "\n",
    "\n",
    "fig.update_layout(height=1500, width=800)\n",
    "\n",
    "fig.show()"
   ]
  },
  {
   "cell_type": "markdown",
   "id": "89743d2b",
   "metadata": {},
   "source": [
    "On tire uniformément sur les hôtels.\n",
    "> Les données tests sont sur-représentés sur les IDs 398 - 497\n",
    "\n",
    "Paris est très représenté(15k), Valetta et Sofia moins (5k), le reste est à 10k.\n",
    "> Amsterdam et Paris sont proportions similaires au test set\n",
    "\n",
    "On a choisi autant chaque langue. \n",
    "SAUF ‘belgian’, ‘croatian’, ‘cypriot’, ‘czech’, ‘estonian’, ‘finnish’, ‘german’,  ‘hungarian’, ‘irish’, ‘italian’, ‘latvian’, ‘luxembourgish’, ‘polish’, ‘portuguese’, ‘romanian’, ‘slovakian’, ‘slovene’ et ‘swedish’ sur lesquelles aucune requête n'a été faite\n",
    "\n",
    "> le test set a tiré 15% hongrois puis 7% finnois\n",
    "\n",
    "Accar Hotel est le groupe le plus présent (18k), Chilton le moins présent (9k).En majorité les hôtels sont indépendants (25k)\n",
    "\n",
    "\n",
    "Les marques d'hotels sont assez uniformément répartie. Il y a une majorité écrasante d'indépendants. (les 25k cités plus haut)\n",
    "\n",
    "40k avec parking, 50k sans parking\n",
    "\n",
    "80k pool >> 15k no pool\n",
    "\n",
    "90k sans restrictions pour les enfants >> 3k interdissent les enfants de moins de 12 ans >> 1,3 k interdissent les enfants\n",
    "\n"
   ]
  },
  {
   "cell_type": "code",
   "execution_count": null,
   "id": "c982b6a8",
   "metadata": {},
   "outputs": [],
   "source": [
    "string = \"language\""
   ]
  },
  {
   "cell_type": "code",
   "execution_count": null,
   "id": "b9ae1c12",
   "metadata": {},
   "outputs": [],
   "source": [
    "STRING = [\"hotel_id\",\"city\",\"language\",\"mobile\",\"avatar_id\",\"group\",\"brand\",\"parking\",\"pool\",\"children_policy\"]"
   ]
  },
  {
   "cell_type": "code",
   "execution_count": null,
   "id": "55024800",
   "metadata": {},
   "outputs": [],
   "source": [
    "for string in STRING:\n",
    "    fig = go.Figure()\n",
    "    fig.add_trace(go.Histogram(x=QualiTest[string],name=string + \"_Test\", histnorm='percent'))\n",
    "    if (string ==\"hotel_id\"):\n",
    "        fig.add_trace(go.Histogram(x=Quali[string],name=string,histnorm='percent',xbins=dict(\n",
    "        start=0,\n",
    "        end=1000,\n",
    "        size=20)))\n",
    "    else :\n",
    "        fig.add_trace(go.Histogram(x=Quali[string],name=string,histnorm='percent'))\n",
    "    # Overlay both histograms\n",
    "    fig.update_layout(barmode='overlay')\n",
    "    fig.update_layout(height=500, width=800)\n",
    "    # Reduce opacity to see both histograms\n",
    "    fig.update_traces(opacity=0.75)\n",
    "    fig.show()\n",
    "\n",
    "\n"
   ]
  },
  {
   "cell_type": "markdown",
   "id": "2d06293b",
   "metadata": {},
   "source": [
    "# Variables quantitatives"
   ]
  },
  {
   "cell_type": "code",
   "execution_count": null,
   "id": "4bd81909",
   "metadata": {},
   "outputs": [],
   "source": [
    "Xtest"
   ]
  },
  {
   "cell_type": "code",
   "execution_count": null,
   "id": "24aa0da1",
   "metadata": {},
   "outputs": [],
   "source": [
    "pricing_requests"
   ]
  },
  {
   "cell_type": "code",
   "execution_count": null,
   "id": "33325308",
   "metadata": {},
   "outputs": [],
   "source": [
    "STRING = [\"hotel_id\",\"city\",\"language\",\"mobile\",\"avatar_id\",\"group\",\"brand\",\"parking\",\"pool\",\"children_policy\"]"
   ]
  },
  {
   "cell_type": "code",
   "execution_count": null,
   "id": "86cff567",
   "metadata": {},
   "outputs": [],
   "source": [
    "QuantiTest = Xtest[[\"date\",\"stock\"]]"
   ]
  },
  {
   "cell_type": "code",
   "execution_count": null,
   "id": "7560ae69",
   "metadata": {},
   "outputs": [],
   "source": [
    "Quanti = pricing_requests[[\"price\",\"date\",\"stock\"]]"
   ]
  },
  {
   "cell_type": "code",
   "execution_count": null,
   "id": "361d81f3",
   "metadata": {},
   "outputs": [],
   "source": [
    "QuantiTest.describe()"
   ]
  },
  {
   "cell_type": "markdown",
   "id": "107ff472",
   "metadata": {},
   "source": [
    "## Data Test"
   ]
  },
  {
   "cell_type": "code",
   "execution_count": null,
   "id": "97600725",
   "metadata": {},
   "outputs": [],
   "source": [
    "fig = make_subplots(rows=1, cols=2)\n",
    "\n",
    "\n",
    "trace0 = go.Histogram(x=QuantiTest[\"date\"],name=\"date\")\n",
    "trace1 = go.Histogram(x=QuantiTest[\"stock\"],name=\"stock\")\n",
    "\n",
    "fig.append_trace(trace0, 1, 1)\n",
    "fig.append_trace(trace1, 1, 2)\n",
    "\n",
    "\n",
    "fig.update_layout(height=500, width=800)\n",
    "\n",
    "fig.show()"
   ]
  },
  {
   "cell_type": "code",
   "execution_count": null,
   "id": "82dbc5a7",
   "metadata": {},
   "outputs": [],
   "source": [
    "fig = make_subplots(rows=1, cols=2)\n",
    "\n",
    "\n",
    "trace0 = go.Box(x=QuantiTest[\"date\"],name=\"date\")\n",
    "trace1 = go.Box(x=QuantiTest[\"stock\"],name=\"stock\")\n",
    "\n",
    "fig.append_trace(trace0, 1, 1)\n",
    "fig.append_trace(trace1, 1, 2)\n",
    "\n",
    "\n",
    "fig.update_layout(height=500, width=800)\n",
    "\n",
    "fig.show()"
   ]
  },
  {
   "cell_type": "markdown",
   "id": "f351bf25",
   "metadata": {},
   "source": [
    "## Request Data"
   ]
  },
  {
   "cell_type": "code",
   "execution_count": null,
   "id": "c3e0b7fa",
   "metadata": {},
   "outputs": [],
   "source": [
    "Quanti.describe()"
   ]
  },
  {
   "cell_type": "code",
   "execution_count": null,
   "id": "0421172d",
   "metadata": {},
   "outputs": [],
   "source": [
    "fig = make_subplots(rows=1, cols=3)\n",
    "\n",
    "\n",
    "trace0 = go.Histogram(x=Quanti[\"date\"],name=\"date\")\n",
    "trace1 = go.Histogram(x=Quanti[\"stock\"],name=\"stock\")\n",
    "trace2 = go.Histogram(x=Quanti[\"price\"],name=\"price\")\n",
    "\n",
    "fig.append_trace(trace0, 1, 1)\n",
    "fig.append_trace(trace1, 1, 2)\n",
    "fig.append_trace(trace2, 1, 3)\n",
    "\n",
    "\n",
    "fig.update_layout(height=500, width=800)\n",
    "\n",
    "fig.show()"
   ]
  },
  {
   "cell_type": "code",
   "execution_count": null,
   "id": "224813b1",
   "metadata": {},
   "outputs": [],
   "source": [
    "fig = make_subplots(rows=1, cols=3)\n",
    "\n",
    "\n",
    "trace0 = go.Box(x=Quanti[\"date\"],name=\"date\")\n",
    "trace1 = go.Box(x=Quanti[\"stock\"],name=\"stock\")\n",
    "trace2 = go.Box(x=Quanti[\"price\"],name=\"price\")\n",
    "\n",
    "fig.append_trace(trace0, 1, 1)\n",
    "fig.append_trace(trace1, 1, 2)\n",
    "fig.append_trace(trace2, 1, 3)\n",
    "\n",
    "\n",
    "fig.update_layout(height=500, width=800)\n",
    "\n",
    "fig.show()"
   ]
  },
  {
   "cell_type": "markdown",
   "id": "5d9b4eb1",
   "metadata": {},
   "source": [
    "# Interpretability"
   ]
  },
  {
   "cell_type": "code",
   "execution_count": null,
   "id": "4e4d36c2",
   "metadata": {},
   "outputs": [],
   "source": [
    "#pip install --upgrade keras"
   ]
  },
  {
   "cell_type": "code",
   "execution_count": null,
   "id": "74597d85",
   "metadata": {},
   "outputs": [],
   "source": [
    "import eli5\n",
    "from eli5.sklearn import PermutationImportance\n",
    "from sklearn.pipeline import Pipeline\n",
    "from sklearn.pipeline import make_pipeline\n",
    "from sklearn.preprocessing import FunctionTransformer\n",
    "from category_encoders import TargetEncoder\n",
    "from sklearn.ensemble import RandomForestRegressor\n",
    "from sklearn.preprocessing import QuantileTransformer, StandardScaler\n",
    "from sklearn.compose import ColumnTransformer\n",
    "from sklearn.impute import SimpleImputer"
   ]
  },
  {
   "cell_type": "code",
   "execution_count": null,
   "id": "aada252d",
   "metadata": {},
   "outputs": [],
   "source": [
    "hotels = pd.read_csv('features_hotels.csv', index_col=['hotel_id', 'city'])\n",
    "y = pricing_requests[\"price\"]\n",
    "X = pricing_requests.loc[ : , pricing_requests.columns != 'price']"
   ]
  },
  {
   "cell_type": "code",
   "execution_count": null,
   "id": "78f004e0",
   "metadata": {},
   "outputs": [],
   "source": [
    "print(type(X),'\\n',X)"
   ]
  },
  {
   "cell_type": "code",
   "execution_count": null,
   "id": "e8cac38f",
   "metadata": {},
   "outputs": [],
   "source": [
    "numeric_features = [\"hotel_id\", \"stock\",\"date\"]\n",
    "numeric_transformer = Pipeline(\n",
    "    steps=[(\"scaler\", StandardScaler())]\n",
    ")\n",
    "categorical_features = [\"city\",\"language\",\"mobile\",\"group\",\"brand\",\"parking\",\"pool\",\"children_policy\"]\n",
    "categorical_transformer = TargetEncoder(handle_unknown=\"return_nan\")\n",
    "\n",
    "# Add the SimpleImputer step to replace nan values with zeros\n",
    "categorical_transformer = Pipeline(\n",
    "    steps=[(\"encoder\", categorical_transformer), \n",
    "           (\"imputer\", SimpleImputer(strategy='constant',missing_values=np.nan, fill_value=0))]\n",
    ")\n",
    "\n",
    "preprocessor = ColumnTransformer(\n",
    "    transformers=[\n",
    "        (\"num\", numeric_transformer, numeric_features),\n",
    "        (\"cat\", categorical_transformer, categorical_features),\n",
    "    ]\n",
    ")\n",
    "\n",
    "# Create the pipeline\n",
    "pipeline = Pipeline([\n",
    "    ('preprocessor', preprocessor),\n",
    "    ('randomforestregressor', RandomForestRegressor(n_estimators = 300))\n",
    "])\n",
    "\n",
    "pipeline.fit(X,y)"
   ]
  },
  {
   "cell_type": "code",
   "execution_count": null,
   "id": "083d784d",
   "metadata": {},
   "outputs": [],
   "source": [
    "X_test = pd.read_csv(\"test_set.csv\",index_col =0)\n",
    "\n",
    "X_test = X_test.join(hotels, on=['hotel_id', 'city'])\n",
    "X_test = X_test.drop([\"order_requests\"],axis =1)\n",
    "\n",
    "print(type(X_test),'\\n',X_test)"
   ]
  },
  {
   "cell_type": "code",
   "execution_count": null,
   "id": "9fac2229",
   "metadata": {},
   "outputs": [],
   "source": [
    "reorganized_columns = ['hotel_id','stock','city','date','language','mobile','group','brand','parking','pool','children_policy']\n",
    "\n",
    "# Appliquer la réorganisation des colonnes\n",
    "X_test = X_test.reindex(columns=reorganized_columns)\n",
    "\n",
    "\n",
    "print(type(X_test),'\\n',X_test)"
   ]
  },
  {
   "cell_type": "code",
   "execution_count": null,
   "id": "0754e4b1",
   "metadata": {},
   "outputs": [],
   "source": [
    "Y_test = pd.read_csv(\"submission1.csv\",index_col =0)\n",
    "Y_test"
   ]
  },
  {
   "cell_type": "code",
   "execution_count": null,
   "id": "664d2319",
   "metadata": {},
   "outputs": [],
   "source": [
    " pipeline.named_steps['preprocessor']"
   ]
  },
  {
   "cell_type": "code",
   "execution_count": null,
   "id": "9f820a4e",
   "metadata": {},
   "outputs": [],
   "source": [
    "X_test_preprocessed = pipeline.named_steps['preprocessor'].fit_transform(X_test,Y_test)"
   ]
  },
  {
   "cell_type": "markdown",
   "id": "57e18490",
   "metadata": {},
   "source": [
    "## Features importance"
   ]
  },
  {
   "cell_type": "code",
   "execution_count": null,
   "id": "5892c515",
   "metadata": {},
   "outputs": [],
   "source": [
    "import seaborn as sns\n",
    "feature_names = reorganized_columns\n",
    "plt.figure()\n",
    "permumtation_impor =  PermutationImportance(pipeline.named_steps['randomforestregressor'], random_state=0).fit(X_test_preprocessed, Y_test)\n",
    "features_importance = {'Feature_name':feature_names, 'Importance':permumtation_impor.feature_importances_}  \n",
    "\n",
    "\n",
    "print(len(feature_names))\n",
    "print(permumtation_impor.feature_importances_)\n",
    "\n",
    "features_importance = pd.DataFrame(features_importance) \n",
    "features_importance = features_importance.sort_values(['Importance'], ascending=False) \n",
    "ax = sns.barplot(x=\"Importance\", y=\"Feature_name\", data=features_importance)\n",
    "plt.title('random forest')\n",
    "\n",
    "eli5.show_weights(permumtation_impor)\n",
    "\n",
    "\n",
    "\n"
   ]
  },
  {
   "cell_type": "markdown",
   "id": "d62222f6",
   "metadata": {},
   "source": [
    "## PDP and ICE plots"
   ]
  },
  {
   "cell_type": "code",
   "execution_count": null,
   "id": "6fa904a9",
   "metadata": {},
   "outputs": [],
   "source": [
    "from sklearn.inspection import partial_dependence\n",
    "from sklearn.inspection import PartialDependenceDisplay\n",
    "\n",
    "model = pipeline.named_steps['randomforestregressor']\n",
    "model_name = 'random forest'\n",
    "\n",
    "top_2_numeric = features_importance.Feature_name[1:3].index\n",
    "print(top_3_features)\n",
    "\n",
    "display = PartialDependenceDisplay.from_estimator(\n",
    "estimator=model,\n",
    "X=X_test_preprocessed,\n",
    "features=top_2_numeric, feature_names=feature_names,\n",
    "kind=\"both\",\n",
    "subsample=50,\n",
    "n_jobs=2,\n",
    "n_cols=2,\n",
    "grid_resolution=20,\n",
    "random_state=0,\n",
    "ice_lines_kw={\"color\": \"tab:blue\", \"alpha\": 0.2, \"linewidth\": 0.5},\n",
    "pd_line_kw={\"color\": \"tab:orange\", \"linestyle\": \"--\"}\n",
    ")\n",
    "display.figure_.suptitle(f\"Partial dependence for {model_name} model\")\n",
    "display.figure_.subplots_adjust(hspace=0.3)"
   ]
  },
  {
   "cell_type": "code",
   "execution_count": null,
   "id": "9dca6b89",
   "metadata": {},
   "outputs": [],
   "source": [
    "_, ax = plt.subplots(ncols=3, figsize=(9, 4))\n",
    "features = [top_2_numeric[0], top_2_numeric[1], (top_2_numeric[0], top_2_numeric[1])]\n",
    "display = PartialDependenceDisplay.from_estimator(\n",
    "  model,\n",
    "  X_test,\n",
    "  features,\n",
    "  kind=\"average\",\n",
    "  n_jobs=3,\n",
    "  grid_resolution=20,\n",
    "  ax=ax,\n",
    ")\n",
    "display.figure_.suptitle(f\"Partial dependence for {'random forest'} model\")\n",
    "display.figure_.subplots_adjust(wspace=0.4, hspace=0.3)"
   ]
  },
  {
   "cell_type": "markdown",
   "id": "d034aea4",
   "metadata": {},
   "source": [
    "## SHAP"
   ]
  },
  {
   "cell_type": "code",
   "execution_count": null,
   "id": "d25a6a05",
   "metadata": {},
   "outputs": [],
   "source": [
    "#!pip install shap"
   ]
  },
  {
   "cell_type": "code",
   "execution_count": null,
   "id": "da3ec70e",
   "metadata": {},
   "outputs": [],
   "source": [
    "import shap\n",
    "shap.initjs() #needed to plot results directly on the notebook\n",
    "\n",
    "idx = 1 # index of the instance we want to explain\n",
    "\n",
    "explainer = shap.KernelExplainer(model.predict, X_test_preprocessed)\n",
    "shap_values = explainer.shap_values(X_test.iloc[0,:])\n",
    "shap.force_plot(explainer.expected_value, shap_values, X_test.iloc[0,:])"
   ]
  },
  {
   "cell_type": "code",
   "execution_count": null,
   "id": "83fe8002",
   "metadata": {},
   "outputs": [],
   "source": []
  }
 ],
 "metadata": {
  "kernelspec": {
   "display_name": "Python 3 (ipykernel)",
   "language": "python",
   "name": "python3"
  },
  "language_info": {
   "codemirror_mode": {
    "name": "ipython",
    "version": 3
   },
   "file_extension": ".py",
   "mimetype": "text/x-python",
   "name": "python",
   "nbconvert_exporter": "python",
   "pygments_lexer": "ipython3",
   "version": "3.9.12"
  },
  "toc": {
   "base_numbering": 1,
   "nav_menu": {},
   "number_sections": true,
   "sideBar": true,
   "skip_h1_title": true,
   "title_cell": "Table of Contents",
   "title_sidebar": "Contents",
   "toc_cell": false,
   "toc_position": {},
   "toc_section_display": true,
   "toc_window_display": false
  }
 },
 "nbformat": 4,
 "nbformat_minor": 5
}
